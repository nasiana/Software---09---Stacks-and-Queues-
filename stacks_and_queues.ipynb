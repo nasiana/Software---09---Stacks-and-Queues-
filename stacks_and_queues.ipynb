{
 "cells": [
  {
   "cell_type": "markdown",
   "metadata": {},
   "source": [
    "# 09. Stacks and Queues\n",
    "## Today's Agenda\n",
    "1. Stacks\n",
    "2. Queues\n"
   ]
  },
  {
   "cell_type": "markdown",
   "metadata": {},
   "source": [
    "## Stack (LIFO)\n",
    "In a FIFO queue, the first tasks added are the first retrieved.\n",
    "\n",
    "We can implement using:\n",
    "1. list\n",
    "2. [collections.deque](https://docs.python.org/3/library/collections.html#deque-objects)\n",
    "3. [queue.Queue](https://docs.python.org/3/library/queue.html)\n",
    "\n",
    "Stacks typically support the following operation:\n",
    "1. Push\n",
    "2. Pop\n",
    "3. Peek"
   ]
  },
  {
   "cell_type": "code",
   "execution_count": 17,
   "metadata": {},
   "outputs": [
    {
     "name": "stdout",
     "output_type": "stream",
     "text": [
      "[1, 2, 3]\n",
      "3\n",
      "3\n",
      "2\n"
     ]
    }
   ],
   "source": [
    "# Using a list as a stack\n",
    "data = []\n",
    "data.append(1)\n",
    "data.append(2)\n",
    "data.append(3)\n",
    "\n",
    "print(data)\n",
    "\n",
    "print(data[-1])\n",
    "\n",
    "print(data.pop())\n",
    "print(data.pop())\n",
    "\n"
   ]
  },
  {
   "cell_type": "code",
   "execution_count": 19,
   "metadata": {},
   "outputs": [],
   "source": [
    "class StackList:\n",
    "    \"\"\"\n",
    "    Stack Implementation using a List\n",
    "    \"\"\"\n",
    "\n",
    "    def __init__(self, size):\n",
    "        self.container = [None] * size ## [None, None, None, None, None]\n",
    "        self.capacity = size\n",
    "        self.top = -1\n",
    "\n",
    "    def push(self, x):\n",
    "        \"\"\"\n",
    "        Method to add an element `x` to the stack \n",
    "        \"\"\"\n",
    "        if self.is_full():\n",
    "            raise Exception(\"Stack is full!\")\n",
    "\n",
    "        self.top = self.top + 1\n",
    "        self.container[self.top] = x\n",
    "        \n",
    "\n",
    "    def pop(self):\n",
    "        \"\"\"\n",
    "        Method to pop a top element from the stack\n",
    "        \"\"\"\n",
    "        if self.is_empty():\n",
    "            return None\n",
    "\n",
    "        print(\"Removing\", self.peek(), \"from the stack\")\n",
    "        elem = self.container[self.top]\n",
    "        self.top = self.top - 1\n",
    "        return elem\n",
    "\n",
    "    def peek(self):\n",
    "        \"\"\"\n",
    "        Method to return the top element of the stack \n",
    "        \"\"\"\n",
    "        if self.is_empty():\n",
    "            return None\n",
    "            \n",
    "        return self.container[self.top]\n",
    "\n",
    "    def size(self):\n",
    "        \"\"\"\n",
    "        Method to return the size of the stack\n",
    "        \"\"\"\n",
    "        return self.top + 1\n",
    "\n",
    "    def is_empty(self):\n",
    "        return self.size() == 0\n",
    "\n",
    "    def is_full(self):\n",
    "        return self.size() == self.capacity"
   ]
  },
  {
   "cell_type": "code",
   "execution_count": 20,
   "metadata": {},
   "outputs": [
    {
     "name": "stdout",
     "output_type": "stream",
     "text": [
      "Removing 2 from the stack\n",
      "Removing 1 from the stack\n",
      "Top element is 3\n",
      "The stack size is 1\n",
      "Removing 3 from the stack\n",
      "The stack is empty\n"
     ]
    }
   ],
   "source": [
    "stack = StackList(3)\n",
    "\n",
    "stack.push(1)\n",
    "stack.push(2)\n",
    "\n",
    "stack.pop()\n",
    "stack.pop()\n",
    "\n",
    "stack.push(3)\n",
    "\n",
    "print(\"Top element is\", stack.peek())\n",
    "print(\"The stack size is\", stack.size())\n",
    "\n",
    "stack.pop()\n",
    "\n",
    "if stack.is_empty():\n",
    "    print(\"The stack is empty\")\n",
    "else:\n",
    "    print(\"The stack is not empty\")"
   ]
  },
  {
   "cell_type": "markdown",
   "metadata": {},
   "source": [
    "We should prefer using the collections already provided by python as they are optimised and thread-safe.\n",
    "> The queue module implements multi-producer, multi-consumer queues. It is especially useful in threaded programming when information must be exchanged safely between multiple threads. "
   ]
  },
  {
   "cell_type": "code",
   "execution_count": 23,
   "metadata": {},
   "outputs": [
    {
     "name": "stdout",
     "output_type": "stream",
     "text": [
      "30\n",
      "25\n",
      "1\n"
     ]
    }
   ],
   "source": [
    "# LIFO QUEUE - i.e. Stack\n",
    "from queue import LifoQueue\n",
    "\n",
    "q = LifoQueue(maxsize=10)\n",
    "q.put(1)\n",
    "q.put(25)\n",
    "q.put(30)\n",
    "\n",
    "\n",
    "while not q.empty():\n",
    "    print(q.get())\n"
   ]
  },
  {
   "cell_type": "code",
   "execution_count": 24,
   "metadata": {},
   "outputs": [
    {
     "name": "stdout",
     "output_type": "stream",
     "text": [
      "Top element is 4\n",
      "Removing 4 from the stack\n",
      "Removing 3 from the stack\n",
      "Stack size is 2\n",
      "Removing 2 from the stack\n",
      "Removing 1 from the stack\n",
      "The stack is empty\n"
     ]
    }
   ],
   "source": [
    "# Stack using collections.dequeue\n",
    "\n",
    "from collections import deque\n",
    "\n",
    "# NB: module deque alredy has useful methods, so we don't need to re-implement them\n",
    "stack = deque()\n",
    "\n",
    "\n",
    "stack.append('1')\n",
    "stack.append('2')\n",
    "stack.append('3')\n",
    "stack.append('4')\n",
    "\n",
    "\n",
    "print(\"Top element is\", stack[-1])  # prints the stack's top (4)\n",
    "\n",
    "print(\"Removing\", stack.pop(), \"from the stack\")  # removing the top element (4)\n",
    "print(\"Removing\", stack.pop(), \"from the stack\")  # removing the next top (3)\n",
    "\n",
    "# returns the total number of elements present in the stack\n",
    "print(\"Stack size is\", len(stack))\n",
    "\n",
    "print(\"Removing\", stack.pop(), \"from the stack\")  # removing the top element (2)\n",
    "print(\"Removing\", stack.pop(), \"from the stack\")  # removing the next top (1)\n",
    "\n",
    "# check if the stack is empty\n",
    "if len(stack) == 0:\n",
    "    print(\"The stack is empty\")\n",
    "else:\n",
    "    print(\"The stack is not empty\")\n"
   ]
  },
  {
   "cell_type": "markdown",
   "metadata": {},
   "source": [
    "## Queues (FIFO)\n",
    "In a FIFO queue, the first tasks added are the first retrieved.\n",
    "\n",
    "We can implement using:\n",
    "1. list\n",
    "2. [collections.deque](https://docs.python.org/3/library/collections.html#deque-objects)\n",
    "3. [queue.queue](https://docs.python.org/3/library/queue.html)\n",
    "\n",
    "Queues typically support the following operation:\n",
    "1. Enqueue\n",
    "2. Dequeue\n",
    "3. Peek"
   ]
  },
  {
   "cell_type": "code",
   "execution_count": 27,
   "metadata": {},
   "outputs": [
    {
     "name": "stdout",
     "output_type": "stream",
     "text": [
      "1\n",
      "1\n",
      "2\n"
     ]
    }
   ],
   "source": [
    "# Using a list as a queue\n",
    "data = []\n",
    "data.append(1)\n",
    "data.append(2)\n",
    "data.append(3)\n",
    "\n",
    "print(data[0])\n",
    "\n",
    "print(data.pop(0))\n",
    "print(data.pop(0))\n"
   ]
  },
  {
   "cell_type": "code",
   "execution_count": 33,
   "metadata": {},
   "outputs": [],
   "source": [
    "\n",
    "\"\"\"\n",
    "Queue Implementation using a List\n",
    "\"\"\"\n",
    "\n",
    "class MyQueue:\n",
    "\n",
    "    def __init__(self, size):\n",
    "        self.q = [None] * size  # list to store queue elements\n",
    "        self.capacity = size  # maximum capacity of the queue\n",
    "        self.front = 0  # front points to the front element in the queue\n",
    "        self.rear = -1  # rear points to the last element in the queue\n",
    "        self.count = 0  # current size of the queue\n",
    "\n",
    "    def pop(self):\n",
    "        if self.is_empty():\n",
    "            return None\n",
    "\n",
    "        element =  self.q[self.front]\n",
    "        print(\"Removing element…\", element)\n",
    "\n",
    "        self.front = (self.front + 1) % self.capacity\n",
    "        self.count = self.count - 1\n",
    "        return element\n",
    "\n",
    "    def append(self, value):\n",
    "        if self.is_full():\n",
    "            raise Exception(\"Queue is full!\")\n",
    "\n",
    "        print(\"Inserting element…\", value)\n",
    "\n",
    "        self.rear = (self.rear + 1) % self.capacity\n",
    "        self.q[self.rear] = value\n",
    "        self.count = self.count + 1\n",
    "\n",
    "    def peek(self):\n",
    "        if self.is_empty():\n",
    "            return None\n",
    "\n",
    "        return self.q[self.front]\n",
    "\n",
    "    def size(self):\n",
    "        return self.count\n",
    "\n",
    "    def is_empty(self):\n",
    "        return self.size() == 0\n",
    "\n",
    "    def is_full(self):\n",
    "        return self.size() == self.capacity"
   ]
  },
  {
   "cell_type": "code",
   "execution_count": 34,
   "metadata": {},
   "outputs": [
    {
     "name": "stdout",
     "output_type": "stream",
     "text": [
      "Inserting element… A\n",
      "Inserting element… B\n",
      "Inserting element… C\n",
      "The queue size is 3\n",
      "The front element is A\n",
      "Removing element… A\n",
      "The front element is B\n",
      "Removing element… B\n",
      "Removing element… C\n",
      "The queue is empty\n",
      "Inserting element… D\n",
      "Removing element… D\n",
      "D\n"
     ]
    }
   ],
   "source": [
    "\n",
    "q = MyQueue(3)\n",
    "\n",
    "q.append(\"A\")\n",
    "q.append(\"B\")\n",
    "q.append(\"C\")\n",
    "\n",
    "print(\"The queue size is\", q.size())\n",
    "print(\"The front element is\", q.peek())\n",
    "q.pop()\n",
    "print(\"The front element is\", q.peek())\n",
    "\n",
    "q.pop()\n",
    "q.pop()\n",
    "\n",
    "if q.is_empty():\n",
    "    print(\"The queue is empty\")\n",
    "else:\n",
    "    print(\"The queue is not empty\")\n",
    "\n",
    "\n",
    "q.append(\"D\")\n",
    "print(q.pop())\n",
    "    \n"
   ]
  },
  {
   "cell_type": "code",
   "execution_count": 35,
   "metadata": {},
   "outputs": [
    {
     "name": "stdout",
     "output_type": "stream",
     "text": [
      "1\n",
      "25\n",
      "30\n"
     ]
    }
   ],
   "source": [
    "# FIFO QUEUE - i.e a queue\n",
    "from queue import Queue\n",
    "\n",
    "q = Queue()\n",
    "q.put(1)\n",
    "q.put(25)\n",
    "q.put(30)\n",
    "\n",
    "\n",
    "while not q.empty():\n",
    "    print(q.get())"
   ]
  },
  {
   "cell_type": "code",
   "execution_count": 14,
   "metadata": {},
   "outputs": [
    {
     "name": "stdout",
     "output_type": "stream",
     "text": [
      "The front element is 1\n",
      "The front element is 3\n",
      "The queue size is 2\n",
      "The queue is not empty\n"
     ]
    }
   ],
   "source": [
    "# Queue using collections.dequeue\n",
    "\n",
    "from collections import deque\n",
    "\n",
    "# NB: module deque alredy has useful methods, so we don't need to re-implement them\n",
    "queue = deque()\n",
    "\n",
    "queue.append(1)\n",
    "queue.append(2)\n",
    "queue.append(3)\n",
    "queue.append(4)\n",
    "\n",
    "print(\"The front element is\", queue[0])  # 1\n",
    "\n",
    "queue.popleft()  # removing the front element (1)\n",
    "queue.popleft()  # removing the front element (2)\n",
    "\n",
    "# Print front item of the queue\n",
    "print(\"The front element is\", queue[0])  # 3\n",
    "\n",
    "print(\"The queue size is\", len(queue))  # 2\n",
    "\n",
    "# check whether the queue is empty\n",
    "if len(queue) == 0:\n",
    "    print(\"The queue is empty\")\n",
    "else:\n",
    "    print(\"The queue is not empty\")"
   ]
  },
  {
   "cell_type": "markdown",
   "metadata": {},
   "source": [
    "## Bonus - Priority Queue\n",
    "With a priority queue, the entries are kept sorted and the lowest valued entry is retrieved first."
   ]
  },
  {
   "cell_type": "code",
   "execution_count": 36,
   "metadata": {},
   "outputs": [
    {
     "name": "stdout",
     "output_type": "stream",
     "text": [
      "(0, 'clean_the_house')\n",
      "(1, 'food')\n",
      "(2, 'music')\n",
      "(3, 'drinks')\n",
      "(5, 'lights')\n"
     ]
    }
   ],
   "source": [
    "from queue import PriorityQueue\n",
    "\n",
    "party = PriorityQueue(maxsize=5)\n",
    "\n",
    "party.put((1, \"food\"))\n",
    "party.put((3, \"drinks\"))\n",
    "party.put((2, \"music\"))\n",
    "party.put((5, \"lights\"))\n",
    "party.put((0, \"clean_the_house\"))\n",
    "\n",
    "while not party.empty():\n",
    "    print(party.get())\n"
   ]
  }
 ],
 "metadata": {
  "interpreter": {
   "hash": "ab2b989c3d67d87a3969b53c4bc9a795d61114fc5f00df46d9e22a36a30ba665"
  },
  "kernelspec": {
   "display_name": "Python 3.10.0 64-bit",
   "language": "python",
   "name": "python3"
  },
  "language_info": {
   "codemirror_mode": {
    "name": "ipython",
    "version": 3
   },
   "file_extension": ".py",
   "mimetype": "text/x-python",
   "name": "python",
   "nbconvert_exporter": "python",
   "pygments_lexer": "ipython3",
   "version": "3.10.0"
  },
  "orig_nbformat": 4
 },
 "nbformat": 4,
 "nbformat_minor": 2
}
